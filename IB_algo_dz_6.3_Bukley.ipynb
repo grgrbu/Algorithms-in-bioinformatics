{
 "cells": [
  {
   "cell_type": "markdown",
   "metadata": {},
   "source": [
    "# Algorithms in bioinformatics\n",
    "### Hometask 6.3\n",
    "#### Буклей Григорий\n",
    "_____\n",
    "\n",
    "##### Task: Realise Viterbi and Forward-Backward algorithms (for a curve coin problem)"
   ]
  },
  {
   "cell_type": "code",
   "execution_count": 1,
   "metadata": {},
   "outputs": [],
   "source": [
    "def Viterbi(o, pi, a, b):\n",
    "    K = 2\n",
    "    L = len(o) + 1\n",
    "    dic = dict()\n",
    "    dic[\"H\"] = 0\n",
    "    dic[\"T\"] = 1\n",
    "    \n",
    "    d = []\n",
    "    prev = []\n",
    "    for i in range(K):\n",
    "        d.append(list([0] * L))\n",
    "        prev.append(list([-1] * L))\n",
    "    \n",
    "    for j in range(K):\n",
    "        d[j][1] = pi[j] * b[j][dic[o[0]]]\n",
    "    \n",
    "    for t in range(L - 2):\n",
    "        for j in range(K):\n",
    "            for i in range(K):\n",
    "                c = d[i][t] * a[i][j] * b[j][dic[o[t]]]\n",
    "                if c > d[j][t + 1]:\n",
    "                    d[j][t + 1] = c\n",
    "                    prev[j][t + 1] = i\n",
    "    \n",
    "    cur = 0\n",
    "    for i in range(K):\n",
    "        if d[i][L - 2] > d[cur][L - 2]:\n",
    "            cur = i\n",
    "    \n",
    "    ans = \"\"\n",
    "    ans = str(str(cur + 1) + ans)\n",
    "\n",
    "    \n",
    "    for i in range(L - 2, 0, -1):\n",
    "        ans = str(str(cur + 1) + ans)\n",
    "        cur = prev[cur][i]\n",
    "\n",
    "    print(ans)"
   ]
  },
  {
   "cell_type": "code",
   "execution_count": 2,
   "metadata": {},
   "outputs": [],
   "source": [
    "def Forward_Backward(o, pi, a, b):\n",
    "    K = 2\n",
    "    L = len(o) + 1\n",
    "    dic = dict()\n",
    "    dic[\"H\"] = 0\n",
    "    dic[\"T\"] = 1\n",
    "    \n",
    "    alpha = []\n",
    "    beta = []\n",
    "\n",
    "    for i in range(K):\n",
    "        alpha.append(list([0] * L))\n",
    "        beta.append(list([0] * L))\n",
    "        \n",
    "    for j in range(K):\n",
    "        alpha[j][1] = pi[j]*b[j][dic[o[0]]]\n",
    "        beta[j][L - 1] = 1\n",
    "    \n",
    "    for t in range(2, L):\n",
    "        for j in range(K):\n",
    "            for i in range(K):\n",
    "                alpha[j][t] += alpha[i][t - 1] * a[i][j] * b[j][dic[o[t - 2]]]\n",
    "    \n",
    "    for t in range(L - 1, 1, -1):\n",
    "        for j in range(K):\n",
    "            for i in range(K):\n",
    "                beta[j][t - 1] += beta[j][t] * a[j][i] * b[j][dic[o[t - 1]]]\n",
    "    \n",
    "    norm_coef = 0\n",
    "    for i in range(K):\n",
    "        norm_coef += alpha[i][-1]\n",
    "        \n",
    "    for j in range(K):\n",
    "        for t in range(1, L):\n",
    "            c = alpha[j][t] * beta[j][t] / norm_coef\n",
    "            print(\"%.3f\" % c, end = \" \")\n",
    "        print()\n",
    "        print()"
   ]
  },
  {
   "cell_type": "code",
   "execution_count": 3,
   "metadata": {},
   "outputs": [
    {
     "name": "stdout",
     "output_type": "stream",
     "text": [
      "11111111222222222211111111\n",
      "0.601 0.505 0.412 0.379 0.314 0.295 0.245 0.231 0.192 0.157 0.144 0.152 0.186 0.253 0.365 0.545 0.826 1.262 1.934 2.970 2.619 2.158 1.757 1.428 1.160 0.942 \n",
      "\n",
      "0.000 0.000 0.000 0.000 0.000 0.000 0.000 0.000 0.000 0.000 0.000 0.000 0.000 0.000 0.000 0.000 0.000 0.000 0.000 0.000 0.000 0.000 0.001 0.004 0.014 0.058 \n",
      "\n"
     ]
    }
   ],
   "source": [
    "#TEST 1.\n",
    "\n",
    "pi = [0.5, 0.5]\n",
    "a = [[0.8, 0.2], [0.2, 0.8]]\n",
    "b = [[0.5, 0.5], [0.1, 0.9]]\n",
    "\n",
    "S = \"HTHTHTHHTTTTTTTTTTHHHHHHHH\"\n",
    "\n",
    "Viterbi(S, pi, a, b)\n",
    "Forward_Backward(S, pi, a, b)"
   ]
  },
  {
   "cell_type": "code",
   "execution_count": 4,
   "metadata": {},
   "outputs": [
    {
     "name": "stdout",
     "output_type": "stream",
     "text": [
      "21212122111111111122222222\n",
      "0.501 0.506 0.511 0.506 0.511 0.506 0.511 0.506 0.511 0.516 0.511 0.505 0.500 0.495 0.490 0.485 0.481 0.476 0.471 0.466 0.471 0.476 0.480 0.485 0.490 0.495 \n",
      "\n",
      "0.498 0.513 0.488 0.513 0.488 0.514 0.489 0.494 0.509 0.504 0.509 0.514 0.519 0.525 0.530 0.535 0.541 0.546 0.530 0.536 0.530 0.525 0.520 0.515 0.510 0.505 \n",
      "\n"
     ]
    }
   ],
   "source": [
    "#TEST 2.\n",
    "\n",
    "pi = [0.5, 0.5]\n",
    "a = [[0.5, 0.5], [0.5, 0.5]]\n",
    "b = [[0.5, 0.5], [0.51, 0.49]]\n",
    "\n",
    "S = \"HTHTHTHHTTTTTTTTTTHHHHHHHH\"\n",
    "\n",
    "Viterbi(S, pi, a, b)\n",
    "Forward_Backward(S, pi, a, b)"
   ]
  }
 ],
 "metadata": {
  "kernelspec": {
   "display_name": "Python 3",
   "language": "python",
   "name": "python3"
  },
  "language_info": {
   "codemirror_mode": {
    "name": "ipython",
    "version": 3
   },
   "file_extension": ".py",
   "mimetype": "text/x-python",
   "name": "python",
   "nbconvert_exporter": "python",
   "pygments_lexer": "ipython3",
   "version": "3.6.5"
  }
 },
 "nbformat": 4,
 "nbformat_minor": 2
}
