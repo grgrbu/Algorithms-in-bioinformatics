{
 "cells": [
  {
   "cell_type": "markdown",
   "metadata": {},
   "source": [
    "# Algorithms in bioinformatics\n",
    "### Hometask 4.1\n",
    "#### Буклей Григорий\n",
    "_____\n",
    "\n",
    "##### Task: realise Nussinov algorithm"
   ]
  },
  {
   "cell_type": "code",
   "execution_count": 8,
   "metadata": {},
   "outputs": [],
   "source": [
    "d = []\n",
    "prev = []\n",
    "MIN_STEM_LOOP = 0\n",
    "\n",
    "def comlement(a, b):\n",
    "    if a > b:\n",
    "        a, b = b, a\n",
    "    if a == \"A\" and b == \"U\":\n",
    "        return True\n",
    "    if a == \"C\" and b == \"G\":\n",
    "        return True\n",
    "    return False\n",
    "\n",
    "\n",
    "def get_pair(i, j):\n",
    "    global n, d, prev\n",
    "    if i == 0 and j == n - 1:\n",
    "        print(\"Pairs:\")\n",
    "    if d[i][j] > 0:\n",
    "        if prev[i][j][2] != -1:\n",
    "            get_pair(prev[i][j][0], prev[i][j][1])\n",
    "            get_pair(prev[i][j][2], prev[i][j][3])\n",
    "        elif prev[i][j] == (i + 1, j - 1, -1, -1):\n",
    "            print((i + 1, j + 1))\n",
    "            get_pair(prev[i][j][0], prev[i][j][1])\n",
    "        else:\n",
    "            get_pair(prev[i][j][0], prev[i][j][1])\n",
    "\n",
    "\n",
    "def Nussinov(s):\n",
    "    global n, d, prev\n",
    "\n",
    "    n = len(s)\n",
    "    d = [[0] * n for i in range(n)]\n",
    "    prev = [[(-1, -1, -1, -1)] * n for i in range(n)]\n",
    "    ans = 0\n",
    "    for diag in range(1, n):\n",
    "        for k in range(n - diag):\n",
    "            i = k\n",
    "            j = diag + k\n",
    "            if d[i + 1][j] > d[i][j]:\n",
    "                d[i][j] = d[i + 1][j]\n",
    "                prev[i][j] = (i + 1, j, -1, -1)\n",
    "            if d[i][j - 1] > d[i][j]:\n",
    "                d[i][j] = d[i][j - 1]\n",
    "                prev[i][j] = (i, j - 1, -1, -1)\n",
    "            if comlement(s[i], s[j]) and j - i > MIN_STEM_LOOP:\n",
    "            # if comlement(s[i], s[j]):\n",
    "                if d[i + 1][j - 1] + 1 > d[i][j]:\n",
    "                    d[i][j] = d[i + 1][j - 1] + 1\n",
    "                    prev[i][j] = (i + 1, j - 1, -1, -1)\n",
    "            for z in range(i + 1, j - 1):\n",
    "                if d[i][z] + d[z + 1][j] > d[i][j]:\n",
    "                    d[i][j] = d[i][z] + d[z + 1][j]\n",
    "                    prev[i][j] = (i, z, z + 1, j)\n",
    "\n",
    "\n",
    "#     for g in range(n):\n",
    "#         for gg in range(n):\n",
    "#             print(d[g][gg], end=\"\")\n",
    "#         print()\n",
    "#     print()\n",
    "#     print()\n",
    "\n",
    "    get_pair(0, n - 1)\n",
    "    print(d[0][n - 1])"
   ]
  },
  {
   "cell_type": "code",
   "execution_count": 9,
   "metadata": {},
   "outputs": [
    {
     "name": "stdout",
     "output_type": "stream",
     "text": [
      "Pairs:\n",
      "(3, 7)\n",
      "(5, 6)\n",
      "2\n"
     ]
    }
   ],
   "source": [
    "#TEST\n",
    "\n",
    "Nussinov(\"CCCUUAG\")\n"
   ]
  },
  {
   "cell_type": "code",
   "execution_count": null,
   "metadata": {},
   "outputs": [],
   "source": []
  }
 ],
 "metadata": {
  "kernelspec": {
   "display_name": "Python 3",
   "language": "python",
   "name": "python3"
  },
  "language_info": {
   "codemirror_mode": {
    "name": "ipython",
    "version": 3
   },
   "file_extension": ".py",
   "mimetype": "text/x-python",
   "name": "python",
   "nbconvert_exporter": "python",
   "pygments_lexer": "ipython3",
   "version": "3.6.5"
  }
 },
 "nbformat": 4,
 "nbformat_minor": 2
}
