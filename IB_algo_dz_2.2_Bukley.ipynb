{
 "cells": [
  {
   "cell_type": "markdown",
   "metadata": {},
   "source": [
    "## Алгоритмы в биоинформатике\n",
    "### ДЗ 2.2. Глобальное выравнивание с афинными штрафами\n",
    "#### Буклей Григорий\n",
    "\n",
    "Задание: Придумайте две последовательности и 2 разных набора штрафов за открытие и продолжение гэпа, чтобы получились разные выравнивания."
   ]
  },
  {
   "cell_type": "markdown",
   "metadata": {},
   "source": [
    "$\\textbf{Описание функции:}$\n",
    "\n",
    "$\\text{affine_gap_alignment}\\textit{(seq1, seq2, weight_match, weight_mismatch, open_gap_penalty, continue_gap_penalty):}$\n",
    "\n",
    "$\\textit{seq1, seq2}$ - последовательности для выравнивания\n",
    "\n",
    "$\\textit{weight_match}$ - вес совпадения\n",
    "\n",
    "$\\textit{weight_mismatch}$ - вес несовпадения\n",
    "\n",
    "$\\textit{open_gap_penalty}$ - штраф за открытие гэпа\n",
    "\n",
    "$\\textit{continue_gap_penalty}$ - штраф за продолжение гэпа"
   ]
  },
  {
   "cell_type": "markdown",
   "metadata": {},
   "source": [
    "Возьмём следующие строки\n",
    "\n",
    "\n",
    "$$seq_1 = \\text{ABXXMYYYBB}, \\;\\; seq_2 = \\text{ABMBB}$$\n",
    "\n",
    "Пусть в первом случе weight_match = 1, weight_mismatch = 1, open_gap_penalty = 1, continue_gap_penalty = 1\n",
    "\n",
    "Тогда глобальным выравниванием для них является:\n",
    "$$\\text{A B X X M Y Y Y B B}$$ $$\\text{A B _ _} \\;\\;\\; \\text{M _ _} \\;\\; \\text{_ B B}$$\n",
    "\n",
    "Но если weight_match = 1, weight_mismatch = 1, open_gap_penalty = 10, continue_gap_penalty = 1\n",
    "\n",
    "Тогда глобальным выравниванием будет:\n",
    "$$\\text{A B X X M Y Y Y B B}$$ $$\\text{A B _ _} \\;\\;\\; \\text{_ _ _} \\;\\; \\text{M B B}$$\n"
   ]
  },
  {
   "cell_type": "code",
   "execution_count": 1,
   "metadata": {},
   "outputs": [],
   "source": [
    "def affine_gap_alignment(seq1, seq2, weight_match, weight_mismatch, open_gap_penalty, continue_gap_penalty):\n",
    "    topTable = [] # creates/extends gaps in the 1st sequence\n",
    "    middleTable = [] # extends matches and mismatches\n",
    "    lowTable = [] # creates/extends gaps in the 2nd sequence\n",
    "    prev = [] # array for fathers\n",
    "    max_int = 10** 6\n",
    "    for i in range(len(seq1) + 1): # filling array with zeroes\n",
    "        lowTable.append([0] * (len(seq2) + 1))\n",
    "        middleTable.append([0] * (len(seq2) + 1))\n",
    "        topTable.append([0] * (len(seq2) + 1))\n",
    "        prev.append([(-1, -1)] * (len(seq2) + 1))\n",
    "\n",
    "    # middle init\n",
    "    for i in range(1, len(seq1) + 1):\n",
    "        middleTable[i][0] = -open_gap_penalty - (i - 1) * continue_gap_penalty\n",
    "        prev[i][0] = (i - 1, 0)\n",
    "    for j in range(1, len(seq2) + 1):\n",
    "        middleTable[0][j] = -open_gap_penalty - (j - 1) * continue_gap_penalty\n",
    "        prev[0][j] = (0, j - 1)\n",
    "\n",
    "    # top init\n",
    "    for i in range(1, len(seq1) + 1):\n",
    "        topTable[i][0] = -open_gap_penalty * len(seq1) * max_int\n",
    "    for j in range(1, len(seq2) + 1):\n",
    "        topTable[0][j] = -open_gap_penalty - (j - 1) * continue_gap_penalty\n",
    "\n",
    "    # low init\n",
    "    for i in range(1, len(seq1) + 1):\n",
    "        lowTable[i][0] = -open_gap_penalty - (i - 1) * continue_gap_penalty\n",
    "    for j in range(1, len(seq2) + 1):\n",
    "        lowTable[0][j] = -open_gap_penalty * len(seq1) * max_int\n",
    "\n",
    "    for i in range(1, len(seq1) + 1):\n",
    "        for j in range(1, len(seq2) + 1):\n",
    "            topTable[i][j] = max(topTable[i][j - 1] - continue_gap_penalty,\n",
    "                                 middleTable[i][j - 1] - open_gap_penalty)\n",
    "            lowTable[i][j] = max(lowTable[i - 1][j] - continue_gap_penalty,\n",
    "                                 middleTable[i - 1][j] - open_gap_penalty)\n",
    "            if seq1[i - 1] == seq2[j - 1]:\n",
    "                eq = weight_match\n",
    "            else:\n",
    "                eq = -weight_mismatch\n",
    "\n",
    "            middleTable[i][j] = max(middleTable[i - 1][j - 1] + eq,\n",
    "                                    lowTable[i][j],\n",
    "                                    topTable[i][j])\n",
    "\n",
    "            if middleTable[i][j] == middleTable[i - 1][j - 1] + eq:\n",
    "                prev[i][j] = (i - 1, j - 1)\n",
    "            elif middleTable[i][j] == lowTable[i][j]:\n",
    "                prev[i][j] = (i - 1, j)\n",
    "            else:\n",
    "                prev[i][j] = (i, j - 1)\n",
    "\n",
    "    ans1, ans2 = \"\", \"\"\n",
    "\n",
    "    curPosition = (len(seq1), len(seq2))\n",
    "    while curPosition != (0, 0):\n",
    "        if prev[curPosition[0]][curPosition[1]] == (curPosition[0] - 1, curPosition[1] - 1):\n",
    "            ans1 += seq1[curPosition[0] - 1]\n",
    "            ans2 += seq2[curPosition[1] - 1]\n",
    "        elif prev[curPosition[0]][curPosition[1]] == (curPosition[0] - 1, curPosition[1]):\n",
    "            ans1 += seq1[curPosition[0] - 1]\n",
    "            ans2 += \"-\"\n",
    "        else:\n",
    "            ans1 += \"-\"\n",
    "            ans2 += seq2[curPosition[1] - 1]\n",
    "\n",
    "        curPosition = prev[curPosition[0]][curPosition[1]]\n",
    "\n",
    "    return ans1[::-1], ans2[::-1]"
   ]
  },
  {
   "cell_type": "code",
   "execution_count": 2,
   "metadata": {
    "scrolled": true
   },
   "outputs": [
    {
     "name": "stdout",
     "output_type": "stream",
     "text": [
      "First case: \n",
      "ABXXMYYYBB\n",
      "AB--M---BB\n",
      "Second case: \n",
      "ABXXMYYYBB\n",
      "AB-----MBB\n"
     ]
    }
   ],
   "source": [
    "seq1 = \"ABXXMYYYBB\"\n",
    "seq2 = \"ABMBB\"\n",
    "ans1, ans2 = affine_gap_alignment(seq1, seq2, 1, 1, 1, 1)\n",
    "print(\"First case: \")\n",
    "print(ans1)\n",
    "print(ans2)\n",
    "\n",
    "ans3, ans4 = affine_gap_alignment(seq1, seq2, 1, 1, 10, 1)\n",
    "print(\"Second case: \")\n",
    "print(ans3)\n",
    "print(ans4)"
   ]
  }
 ],
 "metadata": {
  "kernelspec": {
   "display_name": "Python 3",
   "language": "python",
   "name": "python3"
  },
  "language_info": {
   "codemirror_mode": {
    "name": "ipython",
    "version": 3
   },
   "file_extension": ".py",
   "mimetype": "text/x-python",
   "name": "python",
   "nbconvert_exporter": "python",
   "pygments_lexer": "ipython3",
   "version": "3.6.5"
  }
 },
 "nbformat": 4,
 "nbformat_minor": 2
}
