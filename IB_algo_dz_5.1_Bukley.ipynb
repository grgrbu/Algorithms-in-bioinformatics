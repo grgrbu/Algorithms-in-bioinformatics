{
 "cells": [
  {
   "cell_type": "markdown",
   "metadata": {},
   "source": [
    "# Algorithms in bioinformatics\n",
    "### Hometask 5.1\n",
    "#### Буклей Григорий\n",
    "_____\n",
    "\n",
    "##### Task: realise WPGMA and UPGMA algorithm"
   ]
  },
  {
   "cell_type": "markdown",
   "metadata": {},
   "source": [
    "funtion <b>U_W_PGMA(u_or_w, matrix, vertexes)</b> takes 3 arguements:\n",
    "\n",
    "$u\\_or\\_w$ - write \"U\" for UPGMA and \"W\" for WPGMA\n",
    "\n",
    "$matrix$ - score matrix (triange shape)\n",
    "\n",
    "$vertexes$ - list of vertexes names (of chars)"
   ]
  },
  {
   "cell_type": "code",
   "execution_count": 1,
   "metadata": {},
   "outputs": [],
   "source": [
    "class Vertex:\n",
    "    def __init__(self, name, dist):\n",
    "        self.name = name\n",
    "        self.dist = dist\n",
    "        self.add = 0\n",
    "        self.size = 1\n",
    "        self.parent = -1\n",
    "\n",
    "\n",
    "def min_value(matrix):\n",
    "    min_v = float(\"inf\")\n",
    "    x, y = -1, -1\n",
    "    for i in range(len(matrix)):\n",
    "        for j in range(len(matrix[i])):\n",
    "            if matrix[i][j] < min_v:\n",
    "                min_v = matrix[i][j]\n",
    "                x, y = i, j\n",
    "\n",
    "    return x, y\n",
    "\n",
    "def join_labels(matrix, vertexes, a, b):\n",
    "    if b < a:\n",
    "        a, b = b, a\n",
    "    \n",
    "    \n",
    "\n",
    "\n",
    "def merge(matrix, vertexes, a, b, u_or_w):\n",
    "    if b < a:\n",
    "        a, b = b, a\n",
    "\n",
    "    if a >= 0 and b >= 0:\n",
    "        d = matrix[b][a]\n",
    "        vertexes[a].add = d / 2 - vertexes[a].dist\n",
    "        vertexes[b].add = d / 2 - vertexes[b].dist\n",
    "\n",
    "        vertexes[a].dist = d / 2\n",
    "        vertexes[b].dist = d / 2\n",
    "\n",
    "\n",
    "    row = []\n",
    "    for i in range(0, a):\n",
    "        if u_or_w == \"U\":\n",
    "            row.append((matrix[a][i] * vertexes[a].size +\n",
    "                        matrix[b][i] * vertexes[b].size)\n",
    "                       / (vertexes[a].size + vertexes[b].size))\n",
    "        else:\n",
    "            row.append((matrix[a][i] + matrix[b][i]) / 2)\n",
    "\n",
    "\n",
    "    matrix[a] = row\n",
    "    \n",
    "\n",
    "    for i in range(a + 1, b):\n",
    "        if u_or_w == \"U\":\n",
    "            matrix[i][a] = ((matrix[i][a] * vertexes[b].size +\n",
    "                        matrix[b][i] * vertexes[b].size)\n",
    "                       / (vertexes[a].size + vertexes[b].size))\n",
    "        else:\n",
    "            matrix[i][a] = ((matrix[i][a] + matrix[b][i]) / 2)\n",
    "\n",
    "    for i in range(b + 1, len(matrix)):\n",
    "        if u_or_w == \"U\":\n",
    "            matrix[i][a] = ((matrix[i][a] * vertexes[a].size +\n",
    "                        matrix[i][b] * vertexes[b].size)\n",
    "                       / (vertexes[a].size + vertexes[b].size))\n",
    "        else:\n",
    "            matrix[i][a] = ((matrix[i][a] + matrix[i][b]) / 2)\n",
    "        del matrix[i][b]\n",
    "    \n",
    "    del matrix[b]\n",
    "    \n",
    "    vertexes[a].name = \"(\" + vertexes[a].name + \":\" + str(vertexes[a].add) + \",\" \\\n",
    "                       + vertexes[b].name + \":\" + str(vertexes[b].add) + \")\"\n",
    "    vertexes[a].size += vertexes[b].size\n",
    "    vertexes[b].parent = a\n",
    "\n",
    "    del vertexes[b]\n",
    "\n",
    "\n",
    "def U_W_PGMA(u_or_w, matrix, names):\n",
    "    vertexes = to_ints(names)\n",
    "    while len(vertexes) > 1:\n",
    "        x, y = min_value(matrix)\n",
    "        merge(matrix, vertexes, x, y, u_or_w)\n",
    "    return vertexes[0].name\n",
    "\n",
    "\n",
    "def to_ints(names):\n",
    "    vertexes = []\n",
    "    for i in names:\n",
    "        vertexes.append(Vertex(i, 0))\n",
    "    return vertexes"
   ]
  },
  {
   "cell_type": "markdown",
   "metadata": {},
   "source": [
    "## Example:\n",
    "\n",
    "$$\n",
    "\\begin{pmatrix}\n",
    "-- & A & B & C & D\\\\\n",
    "A & & 16 & 16 & 10 \\\\\n",
    "B & & & 8 & 8\\\\\n",
    "C & & & & 4 \\\\\n",
    "D & & & & \\\\\n",
    "\\end{pmatrix}$$"
   ]
  },
  {
   "cell_type": "code",
   "execution_count": 2,
   "metadata": {},
   "outputs": [
    {
     "name": "stdout",
     "output_type": "stream",
     "text": [
      "UPGMA:\n",
      " (A:7.0,(B:4.0,(C:2.0,D:2.0):2.0):3.0)\n",
      "wPGMA:\n",
      " (A:7.25,(B:4.0,(C:2.0,D:2.0):2.0):3.25)\n"
     ]
    }
   ],
   "source": [
    "import copy\n",
    "\n",
    "matrix = [\n",
    "    [],\n",
    "    [16],\n",
    "    [16, 8],\n",
    "    [10, 8, 4], \n",
    "]\n",
    "names = [\"A\", \"B\", \"C\", \"D\"]\n",
    "\n",
    "print(\"UPGMA:\\n\",\n",
    "      U_W_PGMA(\"U\", copy.copy(matrix), names))\n",
    "print(\"wPGMA:\\n\",\n",
    "      U_W_PGMA(\"W\", copy.copy(matrix), names))"
   ]
  },
  {
   "cell_type": "markdown",
   "metadata": {},
   "source": [
    "$$\n",
    "\\begin{pmatrix}\n",
    "-- & A & B & C & D & E & F\\\\\n",
    "A & & 5 & 4 & 7 & 6 & 8 \\\\\n",
    "B & & & 7 & 10 & 9 & 11 \\\\\n",
    "C & & & & 7 & 6 & 8 \\\\\n",
    "D & & & & & 5 & 9 \\\\\n",
    "E & & & & & & 8 \\\\\n",
    "F & & & & & &\n",
    "\\end{pmatrix}$$"
   ]
  },
  {
   "cell_type": "code",
   "execution_count": 3,
   "metadata": {},
   "outputs": [
    {
     "name": "stdout",
     "output_type": "stream",
     "text": [
      "UPGMA:\n",
      " ((((A:2.0,C:2.0):1.0,B:3.0):0.75,(D:2.5,E:2.5):1.25):0.6500000000000004,F:4.4)\n",
      "WPGMA:\n",
      " ((((A:2.0,C:2.0):1.0,B:3.0):1.0,(D:2.5,E:2.5):1.5):0.5,F:4.5)\n"
     ]
    }
   ],
   "source": [
    "import copy\n",
    "\n",
    "\n",
    "matrix = [\n",
    "    [],\n",
    "    [5],\n",
    "    [4, 7], \n",
    "    [7, 10, 7], \n",
    "    [6, 9, 6, 5],\n",
    "    [8, 11, 8, 9, 8], \n",
    "]\n",
    "\n",
    "names = [\"A\", \"B\", \"C\", \"D\", \"E\", \"F\"]\n",
    "\n",
    "print(\"UPGMA:\\n\", \n",
    "      U_W_PGMA(\"U\", copy.deepcopy(matrix), names))\n",
    "print(\"WPGMA:\\n\",\n",
    "      U_W_PGMA(\"W\", copy.deepcopy(matrix), names))"
   ]
  }
 ],
 "metadata": {
  "kernelspec": {
   "display_name": "Python 3",
   "language": "python",
   "name": "python3"
  },
  "language_info": {
   "codemirror_mode": {
    "name": "ipython",
    "version": 3
   },
   "file_extension": ".py",
   "mimetype": "text/x-python",
   "name": "python",
   "nbconvert_exporter": "python",
   "pygments_lexer": "ipython3",
   "version": "3.6.5"
  }
 },
 "nbformat": 4,
 "nbformat_minor": 2
}
