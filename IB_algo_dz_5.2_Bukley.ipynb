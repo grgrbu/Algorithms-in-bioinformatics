{
 "cells": [
  {
   "cell_type": "markdown",
   "metadata": {},
   "source": [
    "# Algorithms in bioinformatics\n",
    "### Hometask 5.2\n",
    "#### Буклей Григорий\n",
    "_____\n",
    "\n",
    "##### Task: realise NJ (Neighbor joining) algorithm"
   ]
  },
  {
   "cell_type": "code",
   "execution_count": 1,
   "metadata": {},
   "outputs": [],
   "source": [
    "class Vertex:\n",
    "    def __init__(self, name, dist):\n",
    "        self.name = name\n",
    "        self.dist = dist\n",
    "        self.add = 0\n",
    "        self.size = 1\n",
    "        self.parent = -1\n",
    "        self.d = 0\n",
    "\n",
    "\n",
    "def min_value(matrix, vertexes):\n",
    "    min_v = float(\"inf\")\n",
    "    x, y = 0, 1\n",
    "\n",
    "    if len(matrix) > 2:\n",
    "\n",
    "        for i in range(len(matrix)):\n",
    "            vertexes[i].d = 0\n",
    "            for j in range(i):\n",
    "                vertexes[i].d += matrix[i][j]\n",
    "            for j in range(i + 1, len(matrix)):\n",
    "                vertexes[i].d += matrix[j][i]\n",
    "\n",
    "        for i in range(len(matrix)):\n",
    "            for j in range(i + 1, len(matrix)):\n",
    "                if matrix[j][i] - (vertexes[i].d + vertexes[j].d - 2 * matrix[j][i])/(len(matrix) - 2) <= min_v:\n",
    "                    min_v = matrix[j][i] - (vertexes[i].d + vertexes[j].d - 2 * matrix[j][i])/(len(matrix) - 2)\n",
    "                    x, y = i, j\n",
    "\n",
    "    return x, y\n",
    "\n",
    "\n",
    "def merge(matrix, vertexes, a, b):\n",
    "    if b < a:\n",
    "        a, b = b, a\n",
    "\n",
    "    if a >= 0 and b >= 0:\n",
    "        d = matrix[b][a]\n",
    "        if (len(matrix) > 2):\n",
    "            vertexes[a].add = 0.5 * (matrix[b][a] + (vertexes[a].d - vertexes[b].d)/(len(matrix) - 2))\n",
    "            vertexes[b].add = 0.5 * (matrix[b][a] + (vertexes[b].d - vertexes[a].d)/(len(matrix) - 2))\n",
    "        else:\n",
    "            vertexes[a].add = 0.5 * (matrix[b][a])\n",
    "            vertexes[b].add = 0.5 * (matrix[b][a])\n",
    "\n",
    "        vertexes[a].dist += 0.5 * vertexes[a].add\n",
    "        vertexes[b].dist += 0.5 * vertexes[b].add\n",
    "\n",
    "    row = []\n",
    "    for i in range(0, a):\n",
    "        row.append(0.5*(matrix[b][i] + matrix[a][i] - matrix[b][a]))\n",
    "\n",
    "    matrix[a] = row\n",
    "\n",
    "    for i in range(a + 1, b):\n",
    "        matrix[i][a] = 0.5*(matrix[b][i] + matrix[i][a] - matrix[b][a])\n",
    "\n",
    "    for i in range(b + 1, len(matrix)):\n",
    "        matrix[i][a] = 0.5*(matrix[i][b] + matrix[i][a] - matrix[b][a])\n",
    "        del matrix[i][b]\n",
    "\n",
    "    del matrix[b]\n",
    "\n",
    "    vertexes[a].name = \"(\" + vertexes[a].name + \":\" + str(vertexes[a].add) + \",\" \\\n",
    "                       + vertexes[b].name + \":\" + str(vertexes[b].add) + \")\"\n",
    "    vertexes[a].size += vertexes[b].size\n",
    "    vertexes[b].parent = a\n",
    "\n",
    "    del vertexes[b]\n",
    "\n",
    "\n",
    "def NJ(matrix, names):\n",
    "    vertexes = to_ints(names)\n",
    "    while len(vertexes) > 1:\n",
    "        x, y = min_value(matrix, vertexes)\n",
    "        merge(matrix, vertexes, x, y)\n",
    "    return vertexes[0].name\n",
    "\n",
    "\n",
    "def to_ints(names):\n",
    "    vertexes = []\n",
    "    for i in names:\n",
    "        vertexes.append(Vertex(i, 0))\n",
    "    return vertexes"
   ]
  },
  {
   "cell_type": "markdown",
   "metadata": {},
   "source": [
    "## Example:\n",
    "\n",
    "$$\n",
    "\\begin{pmatrix}\n",
    "-- & A & B & C & D\\\\\n",
    "A & & 16 & 16 & 10 \\\\\n",
    "B & & & 8 & 8\\\\\n",
    "C & & & & 4 \\\\\n",
    "D & & & & \\\\\n",
    "\\end{pmatrix}$$"
   ]
  },
  {
   "cell_type": "code",
   "execution_count": 2,
   "metadata": {},
   "outputs": [
    {
     "name": "stdout",
     "output_type": "stream",
     "text": [
      "NJ:\n",
      " (A:5.25,(B:5.5,(C:3.5,D:0.5):0.5):5.25)\n"
     ]
    }
   ],
   "source": [
    "matrix = [\n",
    "    [],\n",
    "    [16],\n",
    "    [16, 8],\n",
    "    [10, 8, 4], \n",
    "]\n",
    "names = [\"A\", \"B\", \"C\", \"D\"]\n",
    "\n",
    "print(\"NJ:\\n\",\n",
    "      NJ(matrix, names))"
   ]
  },
  {
   "cell_type": "markdown",
   "metadata": {},
   "source": [
    "$$\n",
    "\\begin{pmatrix}\n",
    "-- & A & B & C & D & E & F\\\\\n",
    "A & & 5 & 4 & 7 & 6 & 8 \\\\\n",
    "B & & & 7 & 10 & 9 & 11 \\\\\n",
    "C & & & & 7 & 6 & 8 \\\\\n",
    "D & & & & & 5 & 9 \\\\\n",
    "E & & & & & & 8 \\\\\n",
    "F & & & & & &\n",
    "\\end{pmatrix}$$"
   ]
  },
  {
   "cell_type": "code",
   "execution_count": 3,
   "metadata": {},
   "outputs": [
    {
     "name": "stdout",
     "output_type": "stream",
     "text": [
      "NJ:\n",
      " ((((A:1.0,B:4.0):1.0,C:2.0):1.0,(D:3.0,E:2.0):1.0):2.5,F:2.5)\n"
     ]
    }
   ],
   "source": [
    "matrix = [\n",
    "    [],\n",
    "    [5],\n",
    "    [4, 7], \n",
    "    [7, 10, 7], \n",
    "    [6, 9, 6, 5],\n",
    "    [8, 11, 8, 9, 8], \n",
    "]\n",
    "\n",
    "names = [\"A\", \"B\", \"C\", \"D\", \"E\", \"F\"]\n",
    "\n",
    "print(\"NJ:\\n\",\n",
    "      NJ(matrix, names))"
   ]
  }
 ],
 "metadata": {
  "kernelspec": {
   "display_name": "Python 3",
   "language": "python",
   "name": "python3"
  },
  "language_info": {
   "codemirror_mode": {
    "name": "ipython",
    "version": 3
   },
   "file_extension": ".py",
   "mimetype": "text/x-python",
   "name": "python",
   "nbconvert_exporter": "python",
   "pygments_lexer": "ipython3",
   "version": "3.6.5"
  }
 },
 "nbformat": 4,
 "nbformat_minor": 2
}
